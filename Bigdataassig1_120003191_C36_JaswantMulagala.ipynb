{
 "cells": [
  {
   "cell_type": "code",
   "execution_count": 27,
   "metadata": {},
   "outputs": [],
   "source": [
    "import requests\n",
    "from bs4 import BeautifulSoup\n",
    "from urllib.request import urlopen\n",
    "import pandas as pd\n",
    "import re"
   ]
  },
  {
   "cell_type": "code",
   "execution_count": 28,
   "metadata": {},
   "outputs": [],
   "source": [
    "response = urlopen('https://www.sfu.ca/computing/people/faculty.html')"
   ]
  },
  {
   "cell_type": "code",
   "execution_count": 43,
   "metadata": {},
   "outputs": [],
   "source": [
    "re1=response.read()\n",
    "\n",
    "soup = BeautifulSoup(re1,\"html.parser\")\n",
    "#print(soup.prettify())[:10]"
   ]
  },
  {
   "cell_type": "code",
   "execution_count": 44,
   "metadata": {},
   "outputs": [],
   "source": [
    "staffs = soup.find_all('div', {'class', 'half'})\n",
    "#print(staffs[0])\n"
   ]
  },
  {
   "cell_type": "code",
   "execution_count": 46,
   "metadata": {
    "scrolled": true
   },
   "outputs": [],
   "source": [
    "t = []\n",
    "b = []\n",
    "#print(staffs[0])\n",
    "for i in staffs:\n",
    "    t1 = str(i.h4)\n",
    "    b1 = str(i.p)\n",
    "    b1 = re.sub('<.*?>', '', b1).lstrip('Area:').rstrip('\\n')\n",
    "    t.append(re.sub('<.*?>', '', t1))\n",
    "    b.append(b1)\n",
    "df =pd.DataFrame({'Name & Desig. ':t,\n",
    "                'Area of Interest':b}\n",
    "               )"
   ]
  },
  {
   "cell_type": "code",
   "execution_count": 36,
   "metadata": {},
   "outputs": [
    {
     "data": {
      "text/html": [
       "<div>\n",
       "<style scoped>\n",
       "    .dataframe tbody tr th:only-of-type {\n",
       "        vertical-align: middle;\n",
       "    }\n",
       "\n",
       "    .dataframe tbody tr th {\n",
       "        vertical-align: top;\n",
       "    }\n",
       "\n",
       "    .dataframe thead th {\n",
       "        text-align: right;\n",
       "    }\n",
       "</style>\n",
       "<table border=\"1\" class=\"dataframe\">\n",
       "  <thead>\n",
       "    <tr style=\"text-align: right;\">\n",
       "      <th></th>\n",
       "      <th>Name &amp; Desig.</th>\n",
       "      <th>Area of Interest</th>\n",
       "    </tr>\n",
       "  </thead>\n",
       "  <tbody>\n",
       "    <tr>\n",
       "      <th>0</th>\n",
       "      <td>Yagiz Aksoy, Assistant Professor</td>\n",
       "      <td>Computational photography, computer graphics,...</td>\n",
       "    </tr>\n",
       "    <tr>\n",
       "      <th>1</th>\n",
       "      <td>Brad Bart, SENIOR LECTURER \\nAssociate Directo...</td>\n",
       "      <td>Instruction</td>\n",
       "    </tr>\n",
       "    <tr>\n",
       "      <th>2</th>\n",
       "      <td>LEONID CHINDELEVITCH, ASSISTANT PROFESSOR\\n</td>\n",
       "      <td>Computational Biology</td>\n",
       "    </tr>\n",
       "    <tr>\n",
       "      <th>3</th>\n",
       "      <td>Diana Cukierman, Senior Lecturer</td>\n",
       "      <td>Instruction</td>\n",
       "    </tr>\n",
       "    <tr>\n",
       "      <th>4</th>\n",
       "      <td>James P. Delgrande, Professor</td>\n",
       "      <td>Formal Aspects of Knowledge Representation</td>\n",
       "    </tr>\n",
       "  </tbody>\n",
       "</table>\n",
       "</div>"
      ],
      "text/plain": [
       "                                      Name & Desig.   \\\n",
       "0                   Yagiz Aksoy, Assistant Professor   \n",
       "1  Brad Bart, SENIOR LECTURER \\nAssociate Directo...   \n",
       "2        LEONID CHINDELEVITCH, ASSISTANT PROFESSOR\\n   \n",
       "3                   Diana Cukierman, Senior Lecturer   \n",
       "4                      James P. Delgrande, Professor   \n",
       "\n",
       "                                    Area of Interest  \n",
       "0   Computational photography, computer graphics,...  \n",
       "1                                        Instruction  \n",
       "2                              Computational Biology  \n",
       "3                                        Instruction  \n",
       "4         Formal Aspects of Knowledge Representation  "
      ]
     },
     "execution_count": 36,
     "metadata": {},
     "output_type": "execute_result"
    }
   ],
   "source": [
    "df.head()"
   ]
  },
  {
   "cell_type": "code",
   "execution_count": null,
   "metadata": {},
   "outputs": [],
   "source": []
  }
 ],
 "metadata": {
  "kernelspec": {
   "display_name": "Python 3",
   "language": "python",
   "name": "python3"
  },
  "language_info": {
   "codemirror_mode": {
    "name": "ipython",
    "version": 3
   },
   "file_extension": ".py",
   "mimetype": "text/x-python",
   "name": "python",
   "nbconvert_exporter": "python",
   "pygments_lexer": "ipython3",
   "version": "3.7.3"
  }
 },
 "nbformat": 4,
 "nbformat_minor": 2
}
